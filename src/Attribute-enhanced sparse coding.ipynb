{
 "cells": [
  {
   "cell_type": "code",
   "execution_count": 1,
   "metadata": {
    "collapsed": true
   },
   "outputs": [],
   "source": [
    "import spams\n",
    "import pickle\n",
    "from scipy.spatial import distance\n",
    "from time import time\n",
    "import numpy as np\n",
    "import os\n",
    "import imageio\n",
    "import matplotlib.pyplot as plt\n",
    "import scipy\n",
    "import scipy.stats\n",
    "from joblib import Parallel, delayed\n",
    "import pandas as pd\n",
    "%matplotlib inline"
   ]
  },
  {
   "cell_type": "code",
   "execution_count": 2,
   "metadata": {
    "collapsed": true
   },
   "outputs": [],
   "source": [
    "with open(\"../data/LFW_DATA.pickle\", \"rb\") as f:\n",
    "    lfw = pickle.load(f)\n",
    "with open(\"../data/lfw_attributes.txt\", \"r\") as f:\n",
    "    lfw_attributes = f.readlines()"
   ]
  },
  {
   "cell_type": "code",
   "execution_count": 3,
   "metadata": {},
   "outputs": [
    {
     "name": "stdout",
     "output_type": "stream",
     "text": [
      "75\n",
      "75\n"
     ]
    }
   ],
   "source": [
    "attributes = lfw_attributes[1].strip().split(\"\\t\")[1:]\n",
    "print(len(attributes))\n",
    "row = lfw_attributes[2].strip().split(\"\\t\")\n",
    "print(len(row))\n",
    "\n",
    "column_names = attributes\n",
    "attr_feature = []\n",
    "for i in lfw_attributes[2:]:\n",
    "    row = i.strip().split(\"\\t\")\n",
    "    attr_feature.append(row)\n",
    "attr_feature = np.array(attr_feature)"
   ]
  },
  {
   "cell_type": "code",
   "execution_count": 4,
   "metadata": {
    "collapsed": true
   },
   "outputs": [],
   "source": [
    "attr_df = pd.DataFrame(attr_feature)\n",
    "attr_df.columns = column_names\n",
    "\n",
    "def replace(string):\n",
    "    return string.replace(\" \",\"_\")\n",
    "def zero_pad(string):\n",
    "    return string.zfill(4)\n",
    "attri_identity = attr_df[\"person\"].apply(replace) + \"_\"+ attr_df[\"imagenum\"].apply(zero_pad)\n",
    "\n",
    "male_dict = {}\n",
    "for i in range(len(attr_df)):\n",
    "    male_dict[attri_identity[i]] = attr_df[\"Male\"][i]"
   ]
  },
  {
   "cell_type": "code",
   "execution_count": 18,
   "metadata": {},
   "outputs": [
    {
     "data": {
      "text/plain": [
       "'0.871569840529'"
      ]
     },
     "execution_count": 18,
     "metadata": {},
     "output_type": "execute_result"
    }
   ],
   "source": [
    "male_dict[\"Abbas_Kiarostami_0001\"]"
   ]
  },
  {
   "cell_type": "code",
   "execution_count": 56,
   "metadata": {
    "collapsed": true
   },
   "outputs": [],
   "source": [
    "database_id = [lfw[\"database_identity\"][i][0][0].split(\"\\\\\")[1][:-4] for i in range(len(lfw[\"database_identity\"]))]\n",
    "query_id = [lfw[\"query_identity\"][i][0][0].split(\"\\\\\")[1][:-4] for i in range(len(lfw[\"query_identity\"]))]\n",
    "\n",
    "\n",
    "database_attri = []\n",
    "query_attri = []\n",
    "for i, name in enumerate(database_id):\n",
    "    try:\n",
    "        database_attri.append(float(male_dict[name]))\n",
    "    except:\n",
    "        print(name)\n",
    "        database_attri.append(0.)\n",
    "print(\"query stage\\n\")\n",
    "for i, name in enumerate(query_id):\n",
    "    try:\n",
    "        query_attri.append(float(male_dict[name]))\n",
    "    except:\n",
    "        print(name)\n",
    "        query_attri.append(0.)\n",
    "\n",
    "# initial a vector\n",
    "K = 100\n",
    "sigma = 120\n",
    "a = np.array([-1 for _ in range(K//2)] + [1 for _ in range(K//2)])\n",
    "Z_database = []\n",
    "Z_query = []\n",
    "for attri in database_attri:\n",
    "    z = np.exp(abs(a-attri)/sigma)\n",
    "    Z_database.append(z)\n",
    "Z_database = np.array(Z_database)\n",
    "\n",
    "for attri in query_attri:\n",
    "    z = np.exp(abs(a-attri)/sigma)\n",
    "    Z_query.append(z)\n",
    "Z_query = np.array(Z_query)"
   ]
  },
  {
   "cell_type": "code",
   "execution_count": 68,
   "metadata": {
    "collapsed": true
   },
   "outputs": [],
   "source": [
    "np.save(\"Z_database.npy\", Z_database)\n",
    "np.save(\"Z_query.npy\", Z_query)"
   ]
  },
  {
   "cell_type": "code",
   "execution_count": null,
   "metadata": {
    "collapsed": true
   },
   "outputs": [],
   "source": []
  }
 ],
 "metadata": {
  "kernelspec": {
   "display_name": "Python 3",
   "language": "python",
   "name": "python3"
  },
  "language_info": {
   "codemirror_mode": {
    "name": "ipython",
    "version": 3
   },
   "file_extension": ".py",
   "mimetype": "text/x-python",
   "name": "python",
   "nbconvert_exporter": "python",
   "pygments_lexer": "ipython3",
   "version": "3.5.2"
  }
 },
 "nbformat": 4,
 "nbformat_minor": 2
}
