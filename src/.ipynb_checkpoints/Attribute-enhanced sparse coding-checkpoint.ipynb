{
 "cells": [
  {
   "cell_type": "code",
   "execution_count": 1,
   "metadata": {
    "collapsed": true
   },
   "outputs": [],
   "source": [
    "import spams\n",
    "import pickle\n",
    "from scipy.spatial import distance\n",
    "from time import time\n",
    "import numpy as np\n",
    "import os\n",
    "import imageio\n",
    "import matplotlib.pyplot as plt\n",
    "import scipy\n",
    "import scipy.stats\n",
    "from joblib import Parallel, delayed\n",
    "import pandas as pd\n",
    "%matplotlib inline"
   ]
  },
  {
   "cell_type": "code",
   "execution_count": 2,
   "metadata": {},
   "outputs": [],
   "source": [
    "with open(\"../data/LFW_DATA.pickle\", \"rb\") as f:\n",
    "    lfw = pickle.load(f)\n",
    "with open(\"../data/lfw_attributes.txt\", \"r\") as f:\n",
    "    lfw_attributes = f.readlines()"
   ]
  },
  {
   "cell_type": "code",
   "execution_count": 3,
   "metadata": {},
   "outputs": [
    {
     "name": "stdout",
     "output_type": "stream",
     "text": [
      "75\n",
      "75\n"
     ]
    }
   ],
   "source": [
    "attributes = lfw_attributes[1].strip().split(\"\\t\")[1:]\n",
    "print(len(attributes))\n",
    "row = lfw_attributes[2].strip().split(\"\\t\")\n",
    "print(len(row))\n",
    "\n",
    "column_names = attributes\n",
    "attr_feature = []\n",
    "for i in lfw_attributes[2:]:\n",
    "    row = i.strip().split(\"\\t\")\n",
    "    attr_feature.append(row)\n",
    "attr_feature = np.array(attr_feature)"
   ]
  },
  {
   "cell_type": "code",
   "execution_count": 4,
   "metadata": {},
   "outputs": [],
   "source": [
    "attr_df = pd.DataFrame(attr_feature)\n",
    "attr_df.columns = column_names"
   ]
  },
  {
   "cell_type": "code",
   "execution_count": 10,
   "metadata": {},
   "outputs": [],
   "source": [
    "def replace(string):\n",
    "    return string.replace(\" \",\"_\")\n",
    "def zero_pad(string):\n",
    "    return string.zfill(4)\n",
    "attri_identity = attr_df[\"person\"].apply(replace) + \"_\"+ attr_df[\"imagenum\"].apply(zero_pad)"
   ]
  },
  {
   "cell_type": "code",
   "execution_count": 16,
   "metadata": {},
   "outputs": [],
   "source": [
    "male_dict = {}\n",
    "for i in range(len(attr_df)):\n",
    "    male_dict[attri_identity[i]] = attr_df[\"Male\"][i]"
   ]
  },
  {
   "cell_type": "code",
   "execution_count": 18,
   "metadata": {},
   "outputs": [
    {
     "data": {
      "text/plain": [
       "'0.871569840529'"
      ]
     },
     "execution_count": 18,
     "metadata": {},
     "output_type": "execute_result"
    }
   ],
   "source": [
    "male_dict[\"Abbas_Kiarostami_0001\"]"
   ]
  },
  {
   "cell_type": "code",
   "execution_count": 56,
   "metadata": {},
   "outputs": [],
   "source": [
    "database_id = [lfw[\"database_identity\"][i][0][0].split(\"\\\\\")[1][:-4] for i in range(len(lfw[\"database_identity\"]))]\n",
    "query_id = [lfw[\"query_identity\"][i][0][0].split(\"\\\\\")[1][:-4] for i in range(len(lfw[\"query_identity\"]))]\n"
   ]
  },
  {
   "cell_type": "code",
   "execution_count": 60,
   "metadata": {
    "scrolled": true
   },
   "outputs": [
    {
     "name": "stdout",
     "output_type": "stream",
     "text": [
      "Abdullah_Gul_0016\n",
      "Abid_Hamid_Mahmud_Al-Tikriti_0002\n",
      "Alejandro_Toledo_0018\n",
      "Andre_Agassi_0003\n",
      "Andy_Dick_0001\n",
      "Angelina_Jolie_0012\n",
      "Ariel_Sharon_0064\n",
      "Bill_Simon_0006\n",
      "Bob_Huggins_0003\n",
      "Cesar_Maia_0002\n",
      "Charles_Mathews_0002\n",
      "Chris_Klein_0001\n",
      "Chuck_Finley_0001\n",
      "Clive_Lloyd_0001\n",
      "Donald_Rumsfeld_0029\n",
      "Donald_Rumsfeld_0076\n",
      "Donald_Rumsfeld_0117\n",
      "Donnie_Brennan_0001\n",
      "Eddy_Merckx_0002\n",
      "Elena_de_Chavez_0001\n",
      "Emile_Lahoud_0001\n",
      "Franz_Muentefering_0003\n",
      "Gary_Bald_0001\n",
      "George_Clooney_0002\n",
      "George_HW_Bush_0002\n",
      "George_W_Bush_0020\n",
      "George_W_Bush_0048\n",
      "George_W_Bush_0136\n",
      "George_W_Bush_0157\n",
      "George_W_Bush_0276\n",
      "Gerhard_Schroeder_0073\n",
      "Giuseppe_Gibilisco_0002\n",
      "Hernan_Diaz_0001\n",
      "Hootie_Johnson_0001\n",
      "Hugh_Grant_0008\n",
      "Hugo_Conte_0001\n",
      "Igor_Ivanov_0007\n",
      "Jake_Gyllenhaal_0002\n",
      "James_Kelly_0002\n",
      "James_McGreevey_0002\n",
      "Jane_Fonda_0002\n",
      "Jean-David_Levitte_0010\n",
      "Jean_Charest_0004\n",
      "Jeffrey_Pfeffer_0001\n",
      "Jerry_Rice_0001\n",
      "Jesse_Jackson_0003\n",
      "John_Sununu_0001\n",
      "John_Velazquez_0001\n",
      "Jose_Dirceu_0002\n",
      "Junichiro_Koizumi_0025\n",
      "Ken_Watanabe_0001\n",
      "Li_Zhaoxing_0004\n",
      "Luis_Horna_0002\n",
      "Luis_Pujols_0001\n",
      "Luiz_Inacio_Lula_da_Silva_0033\n",
      "Marricia_Tate_0001\n",
      "Martin_Scorsese_0006\n",
      "Mercedes_Amor_0001\n",
      "Omar_el-Heib_0001\n",
      "Paradorn_Srichaphan_0008\n",
      "Pedro_Almodovar_0003\n",
      "Pervez_Musharraf_0005\n",
      "Recep_Tayyip_Erdogan_0004\n",
      "Ricardo_Lagos_0005\n",
      "Richard_Gere_0001\n",
      "Richard_Gere_0005\n",
      "Romano_Prodi_0004\n",
      "Roman_Polanski_0003\n",
      "Saman_Shali_0001\n",
      "Scott_Gorelick_0001\n",
      "Sean_OKeefe_0005\n",
      "Sharon_Stone_0001\n",
      "Steve-O_0001\n",
      "Tara_Kirk_0001\n",
      "Thomas_Birmingham_0002\n",
      "Thomas_Van_Essen_0001\n",
      "Thor_Pedersen_0001\n",
      "Tim_Norbeck_0001\n",
      "Tom_Daschle_0021\n",
      "Tung_Chee-hwa_0001\n",
      "Vecdi_Gonul_0001\n",
      "Vicente_Fox_0011\n",
      "Vladimir_Putin_0048\n",
      "Whoopi_Goldberg_0001\n",
      "Will_Smith_0002\n",
      "Yasushi_Chimura_0001\n",
      "Yuvraj_Singh_0001\n",
      "query stage\n",
      "\n",
      "George_W_Bush_0004\n",
      "Jacques_Chirac_0006\n",
      "Jacques_Chirac_0010\n"
     ]
    }
   ],
   "source": [
    "database_attri = []\n",
    "query_attri = []\n",
    "for i, name in enumerate(database_id):\n",
    "    try:\n",
    "        database_attri.append(float(male_dict[name]))\n",
    "    except:\n",
    "        print(name)\n",
    "        database_attri.append(0.)\n",
    "print(\"query stage\\n\")\n",
    "for i, name in enumerate(query_id):\n",
    "    try:\n",
    "        query_attri.append(float(male_dict[name]))\n",
    "    except:\n",
    "        print(name)\n",
    "        query_attri.append(0.)"
   ]
  },
  {
   "cell_type": "code",
   "execution_count": 67,
   "metadata": {},
   "outputs": [],
   "source": [
    "# initial a vector\n",
    "K = 100\n",
    "sigma = 120\n",
    "a = np.array([-1 for _ in range(K//2)] + [1 for _ in range(K//2)])\n",
    "Z_database = []\n",
    "Z_query = []\n",
    "for attri in database_attri:\n",
    "    z = np.exp(abs(a-attri)/sigma)\n",
    "    Z_database.append(z)\n",
    "Z_database = np.array(Z_database)\n",
    "\n",
    "for attri in query_attri:\n",
    "    z = np.exp(abs(a-attri)/sigma)\n",
    "    Z_query.append(z)\n",
    "Z_query = np.array(Z_query)"
   ]
  },
  {
   "cell_type": "code",
   "execution_count": 68,
   "metadata": {},
   "outputs": [],
   "source": [
    "np.save(\"Z_database.npy\", Z_database)\n",
    "np.save(\"Z_query.npy\", Z_query)"
   ]
  },
  {
   "cell_type": "code",
   "execution_count": null,
   "metadata": {
    "collapsed": true
   },
   "outputs": [],
   "source": []
  }
 ],
 "metadata": {
  "kernelspec": {
   "display_name": "Python 3",
   "language": "python",
   "name": "python3"
  },
  "language_info": {
   "codemirror_mode": {
    "name": "ipython",
    "version": 3
   },
   "file_extension": ".py",
   "mimetype": "text/x-python",
   "name": "python",
   "nbconvert_exporter": "python",
   "pygments_lexer": "ipython3",
   "version": "3.5.2"
  }
 },
 "nbformat": 4,
 "nbformat_minor": 2
}
